{
 "cells": [
  {
   "cell_type": "code",
   "execution_count": 7,
   "id": "3b6160fc",
   "metadata": {},
   "outputs": [],
   "source": [
    "import numpy as np\n",
    "\n",
    "from dwave_qbsolv import QBSolv\n",
    "import sys\n",
    "sys.path.append(\"../src\")\n",
    "import utils"
   ]
  },
  {
   "cell_type": "code",
   "execution_count": 2,
   "id": "6221956d",
   "metadata": {},
   "outputs": [],
   "source": [
    "# simple 1 solution -> 2 solution perturbation problem\n",
    "def qubo_alpha(a):\n",
    "    q = np.array([\n",
    "        [-24 + 2*a, -12 + 2*a],\n",
    "        [-12 + 2*a, -24 + 2*a]\n",
    "    ])\n",
    "    return q"
   ]
  },
  {
   "cell_type": "code",
   "execution_count": 3,
   "id": "d3ded297",
   "metadata": {},
   "outputs": [
    {
     "name": "stderr",
     "output_type": "stream",
     "text": [
      "/tmp/ipykernel_63857/3150238305.py:1: DeprecationWarning: QBSolv is deprecated as of the end of 2021 and support will be discontinued after March 2022. Please update your code to use dwave-hybrid or Leap's quantum-classical hybrid solvers instead.\n",
      "  qbs = QBSolv()\n"
     ]
    }
   ],
   "source": [
    "qbs = QBSolv()"
   ]
  },
  {
   "cell_type": "code",
   "execution_count": 4,
   "id": "99c0d414",
   "metadata": {},
   "outputs": [
    {
     "data": {
      "text/plain": [
       "array([[-24, -12],\n",
       "       [-12, -24]])"
      ]
     },
     "execution_count": 4,
     "metadata": {},
     "output_type": "execute_result"
    }
   ],
   "source": [
    "alpha = 0\n",
    "Q = qubo_alpha(alpha)\n",
    "Q"
   ]
  },
  {
   "cell_type": "code",
   "execution_count": 9,
   "id": "4c6bca3c",
   "metadata": {},
   "outputs": [],
   "source": [
    "qd = utils.array2dict(Q)"
   ]
  },
  {
   "cell_type": "code",
   "execution_count": 10,
   "id": "a63de631",
   "metadata": {},
   "outputs": [
    {
     "data": {
      "text/plain": [
       "SampleSet(rec.array([([1, 1], -72., 51)],\n",
       "          dtype=[('sample', 'i1', (2,)), ('energy', '<f8'), ('num_occurrences', '<i8')]), Variables([0, 1]), {}, 'BINARY')"
      ]
     },
     "execution_count": 10,
     "metadata": {},
     "output_type": "execute_result"
    }
   ],
   "source": [
    "qbs.sample_qubo(qd)"
   ]
  },
  {
   "cell_type": "code",
   "execution_count": 20,
   "id": "72503209",
   "metadata": {},
   "outputs": [
    {
     "name": "stdout",
     "output_type": "stream",
     "text": [
      "[[1 1]]\n",
      "[[1 1]]\n",
      "[[1 1]]\n",
      "[[1 1]]\n",
      "[[1 1]]\n",
      "[[1 1]]\n",
      "[[1 1]]\n",
      "[[1 1]]\n",
      "[[1 1]]\n",
      "[[1 1]]\n"
     ]
    }
   ],
   "source": [
    "for alpha in np.linspace(2.386*10**-7, 2*10**-7, 10):\n",
    "    Q = qubo_alpha(alpha)\n",
    "    Q = utils.array2dict(Q)\n",
    "    res = qbs.sample_qubo(Q)\n",
    "    print(res.record['sample'])"
   ]
  },
  {
   "cell_type": "code",
   "execution_count": 29,
   "id": "8f4cbb60",
   "metadata": {},
   "outputs": [
    {
     "data": {
      "text/plain": [
       "{(0, 0): -6, (0, 1): 3, (1, 0): 3, (1, 1): -6}"
      ]
     },
     "execution_count": 29,
     "metadata": {},
     "output_type": "execute_result"
    }
   ],
   "source": [
    "H = np.array([[-6, 3],[3, -6]])\n",
    "H = utils.array2dict(H)\n",
    "H"
   ]
  },
  {
   "cell_type": "code",
   "execution_count": 42,
   "id": "a189c2c1",
   "metadata": {},
   "outputs": [
    {
     "data": {
      "text/plain": [
       "SampleSet(rec.array([([1, 1], -8.01, 51)],\n",
       "          dtype=[('sample', 'i1', (2,)), ('energy', '<f8'), ('num_occurrences', '<i8')]), Variables([0, 1]), {}, 'SPIN')"
      ]
     },
     "execution_count": 42,
     "metadata": {},
     "output_type": "execute_result"
    }
   ],
   "source": [
    "alpha = 0.01\n",
    "h = {0: -6, 1: -6}\n",
    "# J = {(0,1): (6-alpha)}\n",
    "J = {(0,1): (6-alpha), (0,0): -1, (1,1): -1}\n",
    "\n",
    "qbs.sample_ising(h, J)"
   ]
  },
  {
   "cell_type": "code",
   "execution_count": null,
   "id": "9ec6d6bb",
   "metadata": {},
   "outputs": [],
   "source": []
  }
 ],
 "metadata": {
  "kernelspec": {
   "display_name": "Python 3 (ipykernel)",
   "language": "python",
   "name": "python3"
  },
  "language_info": {
   "codemirror_mode": {
    "name": "ipython",
    "version": 3
   },
   "file_extension": ".py",
   "mimetype": "text/x-python",
   "name": "python",
   "nbconvert_exporter": "python",
   "pygments_lexer": "ipython3",
   "version": "3.10.12"
  }
 },
 "nbformat": 4,
 "nbformat_minor": 5
}
