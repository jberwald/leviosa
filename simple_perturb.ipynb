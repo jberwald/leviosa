{
 "cells": [
  {
   "cell_type": "code",
   "execution_count": 1,
   "id": "e249ce43",
   "metadata": {},
   "outputs": [],
   "source": [
    "from dwave_qbsolv import QBSolv\n",
    "import numpy as np\n",
    "\n",
    "from utils import *"
   ]
  },
  {
   "cell_type": "code",
   "execution_count": 2,
   "id": "e8cada6c",
   "metadata": {},
   "outputs": [
    {
     "name": "stderr",
     "output_type": "stream",
     "text": [
      "/tmp/ipykernel_25759/1495861665.py:1: DeprecationWarning: QBSolv is deprecated as of the end of 2021 and support will be discontinued after March 2022. Please update your code to use dwave-hybrid or Leap's quantum-classical hybrid solvers instead.\n",
      "  qb = QBSolv()\n"
     ]
    }
   ],
   "source": [
    "qb = QBSolv()"
   ]
  },
  {
   "cell_type": "code",
   "execution_count": 3,
   "id": "1d364400",
   "metadata": {},
   "outputs": [
    {
     "data": {
      "text/plain": [
       "array([[ 4, -3],\n",
       "       [-3,  2]])"
      ]
     },
     "execution_count": 3,
     "metadata": {},
     "output_type": "execute_result"
    }
   ],
   "source": [
    "# simple double well Qubo\n",
    "qarr = np.array([[4, -3],[-3, 2]])\n",
    "qarr"
   ]
  },
  {
   "cell_type": "code",
   "execution_count": 4,
   "id": "691d7a58",
   "metadata": {},
   "outputs": [
    {
     "data": {
      "text/plain": [
       "array([[4., 7.],\n",
       "       [7., 2.]])"
      ]
     },
     "execution_count": 4,
     "metadata": {},
     "output_type": "execute_result"
    }
   ],
   "source": [
    "newq = adjust_offdiag_param(qarr, 10)\n",
    "newq"
   ]
  },
  {
   "cell_type": "code",
   "execution_count": 5,
   "id": "cd01742b",
   "metadata": {},
   "outputs": [
    {
     "name": "stdout",
     "output_type": "stream",
     "text": [
      "{(0, 0): 4, (0, 1): -3, (1, 0): -3, (1, 1): 2}\n"
     ]
    }
   ],
   "source": [
    "doublewell = array2dict(qarr)\n",
    "print(doublewell)"
   ]
  },
  {
   "cell_type": "code",
   "execution_count": 6,
   "id": "e3789ccd",
   "metadata": {},
   "outputs": [],
   "source": [
    "soln = qb.sample_qubo(doublewell)"
   ]
  },
  {
   "cell_type": "code",
   "execution_count": 7,
   "id": "b9f88e8b",
   "metadata": {},
   "outputs": [
    {
     "data": {
      "text/plain": [
       "SampleSet(rec.array([([1, 1], -0., 20), ([0, 0], -0., 31)],\n",
       "          dtype=[('sample', 'i1', (2,)), ('energy', '<f8'), ('num_occurrences', '<i8')]), Variables([0, 1]), {}, 'BINARY')"
      ]
     },
     "execution_count": 7,
     "metadata": {},
     "output_type": "execute_result"
    }
   ],
   "source": [
    "soln"
   ]
  },
  {
   "cell_type": "code",
   "execution_count": 8,
   "id": "7bb083fb",
   "metadata": {},
   "outputs": [
    {
     "data": {
      "text/html": [
       "<div>\n",
       "<style scoped>\n",
       "    .dataframe tbody tr th:only-of-type {\n",
       "        vertical-align: middle;\n",
       "    }\n",
       "\n",
       "    .dataframe tbody tr th {\n",
       "        vertical-align: top;\n",
       "    }\n",
       "\n",
       "    .dataframe thead th {\n",
       "        text-align: right;\n",
       "    }\n",
       "</style>\n",
       "<table border=\"1\" class=\"dataframe\">\n",
       "  <thead>\n",
       "    <tr style=\"text-align: right;\">\n",
       "      <th></th>\n",
       "      <th>0</th>\n",
       "      <th>1</th>\n",
       "      <th>energy</th>\n",
       "      <th>num_occurrences</th>\n",
       "    </tr>\n",
       "  </thead>\n",
       "  <tbody>\n",
       "    <tr>\n",
       "      <th>0</th>\n",
       "      <td>1</td>\n",
       "      <td>1</td>\n",
       "      <td>-0.0</td>\n",
       "      <td>20</td>\n",
       "    </tr>\n",
       "    <tr>\n",
       "      <th>1</th>\n",
       "      <td>0</td>\n",
       "      <td>0</td>\n",
       "      <td>-0.0</td>\n",
       "      <td>31</td>\n",
       "    </tr>\n",
       "  </tbody>\n",
       "</table>\n",
       "</div>"
      ],
      "text/plain": [
       "   0  1  energy  num_occurrences\n",
       "0  1  1    -0.0               20\n",
       "1  0  0    -0.0               31"
      ]
     },
     "execution_count": 8,
     "metadata": {},
     "output_type": "execute_result"
    }
   ],
   "source": [
    "soln.to_pandas_dataframe()"
   ]
  },
  {
   "cell_type": "code",
   "execution_count": 9,
   "id": "4967d073",
   "metadata": {},
   "outputs": [],
   "source": [
    "samples = soln.record['sample']"
   ]
  },
  {
   "cell_type": "code",
   "execution_count": 10,
   "id": "92247965",
   "metadata": {},
   "outputs": [
    {
     "name": "stdout",
     "output_type": "stream",
     "text": [
      "[1 1] 0\n",
      "[0 0] 0\n"
     ]
    }
   ],
   "source": [
    "for samp in samples:\n",
    "    en = compute_energy(qarr, samp)\n",
    "    print(samp, en)"
   ]
  },
  {
   "cell_type": "code",
   "execution_count": null,
   "id": "ecc18b08",
   "metadata": {},
   "outputs": [],
   "source": []
  },
  {
   "cell_type": "code",
   "execution_count": null,
   "id": "52289839",
   "metadata": {},
   "outputs": [],
   "source": []
  }
 ],
 "metadata": {
  "kernelspec": {
   "display_name": "Python 3 (ipykernel)",
   "language": "python",
   "name": "python3"
  },
  "language_info": {
   "codemirror_mode": {
    "name": "ipython",
    "version": 3
   },
   "file_extension": ".py",
   "mimetype": "text/x-python",
   "name": "python",
   "nbconvert_exporter": "python",
   "pygments_lexer": "ipython3",
   "version": "3.10.6"
  }
 },
 "nbformat": 4,
 "nbformat_minor": 5
}
